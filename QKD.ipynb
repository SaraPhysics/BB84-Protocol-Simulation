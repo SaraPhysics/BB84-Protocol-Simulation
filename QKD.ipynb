{
 "cells": [
  {
   "cell_type": "markdown",
   "metadata": {},
   "source": [
    "# BB84 Protocol Simulation"
   ]
  },
  {
   "cell_type": "markdown",
   "metadata": {},
   "source": [
    "First of all, here is the simulation of the ideal protocol. "
   ]
  },
  {
   "cell_type": "code",
   "execution_count": 1,
   "metadata": {},
   "outputs": [
    {
     "name": "stdout",
     "output_type": "stream",
     "text": [
      "Key= [1, 'non', 0, 1, 1, 'non', 0, 'non', 0, 'non', 1, 0, 1, 'non', 'non', 0, 'non', 'non', 'non', 'non']\n",
      "Basis_Alice= ['x', 'z', 'z', 'x', 'z', 'z', 'x', 'z', 'x', 'x', 'z', 'x', 'x', 'x', 'z', 'x', 'x', 'x', 'z', 'z']\n",
      "Basis_Bob= ['x', 'x', 'z', 'x', 'z', 'x', 'x', 'x', 'x', 'z', 'z', 'x', 'x', 'z', 'x', 'x', 'z', 'z', 'x', 'x']\n"
     ]
    }
   ],
   "source": [
    "#Simulation without eavesdropping\n",
    "import random\n",
    "#Start key and basis\n",
    "Key=[]\n",
    "Basis_Alice=[]\n",
    "Basis_Bob=[]\n",
    "#20 iterations to get a long enough key\n",
    "for n in range(20):\n",
    "    #Alice picks a random basis\n",
    "    B_Alice=random.choice('xz')\n",
    "    #Alice's result after Stern–Gerlach\n",
    "    Bit_Alice=random.randint(0,1)\n",
    "    #Bob picks a random basis\n",
    "    B_Bob=random.choice('xz')\n",
    "    #We append the different basis\n",
    "    Basis_Alice.append(B_Alice)\n",
    "    Basis_Bob.append(B_Bob)\n",
    "    if B_Alice==B_Bob:\n",
    "    #If both of them measure in the same basis, they will have obtained the same result and they will append that bit to the key\n",
    "        Key.append(Bit_Alice)\n",
    "    #Else, they discard the bit \n",
    "    else:\n",
    "         Key.append('non')\n",
    "Key=print('Key=',Key)\n",
    "Alice=print('Basis_Alice=',Basis_Alice)\n",
    "Bob=print('Basis_Bob=',Basis_Bob)\n",
    "\n"
   ]
  },
  {
   "cell_type": "markdown",
   "metadata": {},
   "source": [
    "Now, we introduce the presence of an eavesdropper, Eve, and we analyse what different possibilities we have."
   ]
  },
  {
   "cell_type": "code",
   "execution_count": 2,
   "metadata": {},
   "outputs": [
    {
     "name": "stdout",
     "output_type": "stream",
     "text": [
      "Key= [1, 'non', 'W', 'non', 'non', 'non', 1, 1, 'non', 'non', 'W', 1, 'non', 0, 'W', 0, 1, 'non', 0, 1]\n",
      "Basis_Alice= ['x', 'x', 'z', 'x', 'z', 'x', 'z', 'z', 'x', 'z', 'x', 'z', 'x', 'z', 'x', 'x', 'x', 'x', 'x', 'z']\n",
      "Basis_Bob= ['x', 'z', 'z', 'z', 'x', 'z', 'z', 'z', 'z', 'x', 'x', 'z', 'z', 'z', 'x', 'x', 'x', 'z', 'x', 'z']\n",
      "Basis_Eve= ['x', 'x', 'x', 'x', 'x', 'x', 'z', 'z', 'z', 'z', 'z', 'z', 'x', 'z', 'z', 'z', 'z', 'x', 'x', 'z']\n"
     ]
    }
   ],
   "source": [
    "#Simulation with eavesdropping\n",
    "import random\n",
    "#Start key and basis\n",
    "Key=[]\n",
    "Basis_Alice=[]\n",
    "Basis_Bob=[]\n",
    "Basis_Eve=[]\n",
    "#20 iterations to get a long enough key\n",
    "for n in range(20):\n",
    "    #Alice picks a random basis\n",
    "    B_Alice=random.choice('xz')\n",
    "    #Alice's result after Stern–Gerlach\n",
    "    Bit_Alice=random.randint(0,1)\n",
    "    #Eve picks a random basis\n",
    "    B_Eve=random.choice('xz')\n",
    "    #Bob picks a random basis\n",
    "    B_Bob=random.choice('xz')\n",
    "    Basis_Alice.append(B_Alice)\n",
    "    Basis_Eve.append(B_Eve)\n",
    "    Basis_Bob.append(B_Bob)\n",
    "    #If the three of them choose the same basis, they cant detect evesdropping (Eve wins)\n",
    "    if B_Alice==B_Bob==B_Eve:\n",
    "         Key.append(Bit_Alice)\n",
    "    #If Alice and Bob choose the same basis but the measured bit isnt the same means that Eve have chosen another basis\n",
    "    #Warning: possible eavesdropping\n",
    "    #Also, they can obtain the same bit so they will not suspect (50%)\n",
    "    elif B_Alice==B_Bob!=B_Eve:\n",
    "        coin=random.randint(0,1)\n",
    "        if coin==1:\n",
    "            #They notice Eve's presence\n",
    "            Key.append(\"W\")\n",
    "        else:\n",
    "            #They dont notice Eve's presence\n",
    "            Key.append(Bit_Alice)\n",
    "    #Else, they discard the bit \n",
    "    else:\n",
    "         Key.append('non')\n",
    "Key=print('Key=',Key)\n",
    "Alice=print('Basis_Alice=',Basis_Alice)\n",
    "Bob=print('Basis_Bob=',Basis_Bob)\n",
    "Bob=print('Basis_Eve=',Basis_Eve)"
   ]
  }
 ],
 "metadata": {
  "kernelspec": {
   "display_name": "Python 3",
   "language": "python",
   "name": "python3"
  },
  "language_info": {
   "codemirror_mode": {
    "name": "ipython",
    "version": 3
   },
   "file_extension": ".py",
   "mimetype": "text/x-python",
   "name": "python",
   "nbconvert_exporter": "python",
   "pygments_lexer": "ipython3",
   "version": "3.8.3"
  }
 },
 "nbformat": 4,
 "nbformat_minor": 4
}
